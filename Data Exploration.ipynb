{
 "cells": [
  {
   "cell_type": "code",
   "execution_count": 5,
   "id": "3793c157-d608-4773-aa5c-2986dea902c9",
   "metadata": {},
   "outputs": [
    {
     "data": {
      "text/html": [
       "<div>\n",
       "<style scoped>\n",
       "    .dataframe tbody tr th:only-of-type {\n",
       "        vertical-align: middle;\n",
       "    }\n",
       "\n",
       "    .dataframe tbody tr th {\n",
       "        vertical-align: top;\n",
       "    }\n",
       "\n",
       "    .dataframe thead th {\n",
       "        text-align: right;\n",
       "    }\n",
       "</style>\n",
       "<table border=\"1\" class=\"dataframe\">\n",
       "  <thead>\n",
       "    <tr style=\"text-align: right;\">\n",
       "      <th></th>\n",
       "      <th>Transaction_ID</th>\n",
       "      <th>Timestamp</th>\n",
       "      <th>User_ID</th>\n",
       "      <th>Transaction_Type</th>\n",
       "      <th>Amount</th>\n",
       "      <th>Balance_After</th>\n",
       "      <th>Location</th>\n",
       "      <th>Recipient</th>\n",
       "      <th>Status</th>\n",
       "    </tr>\n",
       "  </thead>\n",
       "  <tbody>\n",
       "    <tr>\n",
       "      <th>0</th>\n",
       "      <td>TX08076</td>\n",
       "      <td>01-01-25 00:25</td>\n",
       "      <td>720990980</td>\n",
       "      <td>Buy Goods</td>\n",
       "      <td>577.29</td>\n",
       "      <td>1687.46</td>\n",
       "      <td>Eldoret</td>\n",
       "      <td>NaN</td>\n",
       "      <td>Success</td>\n",
       "    </tr>\n",
       "    <tr>\n",
       "      <th>1</th>\n",
       "      <td>TX06520</td>\n",
       "      <td>01-01-25 00:47</td>\n",
       "      <td>798970894</td>\n",
       "      <td>Deposit</td>\n",
       "      <td>1795.90</td>\n",
       "      <td>5631.20</td>\n",
       "      <td>Kericho</td>\n",
       "      <td>NaN</td>\n",
       "      <td>Success</td>\n",
       "    </tr>\n",
       "    <tr>\n",
       "      <th>2</th>\n",
       "      <td>TX09722</td>\n",
       "      <td>01-01-25 00:51</td>\n",
       "      <td>751813625</td>\n",
       "      <td>Deposit</td>\n",
       "      <td>838.78</td>\n",
       "      <td>4139.01</td>\n",
       "      <td>Kisumu</td>\n",
       "      <td>NaN</td>\n",
       "      <td>Success</td>\n",
       "    </tr>\n",
       "    <tr>\n",
       "      <th>3</th>\n",
       "      <td>TX08527</td>\n",
       "      <td>01-01-25 00:54</td>\n",
       "      <td>787132285</td>\n",
       "      <td>Buy Goods</td>\n",
       "      <td>15.22</td>\n",
       "      <td>0.00</td>\n",
       "      <td>Nairobi</td>\n",
       "      <td>NaN</td>\n",
       "      <td>Success</td>\n",
       "    </tr>\n",
       "    <tr>\n",
       "      <th>4</th>\n",
       "      <td>TX07617</td>\n",
       "      <td>01-01-25 01:20</td>\n",
       "      <td>760353583</td>\n",
       "      <td>Paybill</td>\n",
       "      <td>1114.26</td>\n",
       "      <td>4783.44</td>\n",
       "      <td>Machakos</td>\n",
       "      <td>NaN</td>\n",
       "      <td>Success</td>\n",
       "    </tr>\n",
       "  </tbody>\n",
       "</table>\n",
       "</div>"
      ],
      "text/plain": [
       "  Transaction_ID       Timestamp    User_ID Transaction_Type   Amount  \\\n",
       "0        TX08076  01-01-25 00:25  720990980        Buy Goods   577.29   \n",
       "1        TX06520  01-01-25 00:47  798970894          Deposit  1795.90   \n",
       "2        TX09722  01-01-25 00:51  751813625          Deposit   838.78   \n",
       "3        TX08527  01-01-25 00:54  787132285        Buy Goods    15.22   \n",
       "4        TX07617  01-01-25 01:20  760353583          Paybill  1114.26   \n",
       "\n",
       "   Balance_After  Location  Recipient   Status  \n",
       "0        1687.46   Eldoret        NaN  Success  \n",
       "1        5631.20   Kericho        NaN  Success  \n",
       "2        4139.01    Kisumu        NaN  Success  \n",
       "3           0.00   Nairobi        NaN  Success  \n",
       "4        4783.44  Machakos        NaN  Success  "
      ]
     },
     "execution_count": 5,
     "metadata": {},
     "output_type": "execute_result"
    }
   ],
   "source": [
    "import pandas as pd\n",
    "df = pd.read_csv(\"mpesa_transactions.csv\")\n",
    "df.head()"
   ]
  },
  {
   "cell_type": "code",
   "execution_count": 5,
   "id": "03cd0a76-469b-4a13-8b71-edc9118a6201",
   "metadata": {},
   "outputs": [
    {
     "name": "stdout",
     "output_type": "stream",
     "text": [
      "<class 'pandas.core.frame.DataFrame'>\n",
      "RangeIndex: 10000 entries, 0 to 9999\n",
      "Data columns (total 9 columns):\n",
      " #   Column            Non-Null Count  Dtype  \n",
      "---  ------            --------------  -----  \n",
      " 0   Transaction_ID    10000 non-null  object \n",
      " 1   Timestamp         10000 non-null  object \n",
      " 2   User_ID           10000 non-null  int64  \n",
      " 3   Transaction_Type  10000 non-null  object \n",
      " 4   Amount            10000 non-null  float64\n",
      " 5   Balance_After     10000 non-null  float64\n",
      " 6   Location          10000 non-null  object \n",
      " 7   Recipient         2516 non-null   float64\n",
      " 8   Status            10000 non-null  object \n",
      "dtypes: float64(3), int64(1), object(5)\n",
      "memory usage: 703.3+ KB\n"
     ]
    }
   ],
   "source": [
    "df.info()"
   ]
  },
  {
   "cell_type": "code",
   "execution_count": 6,
   "id": "86f21b2d-f645-404b-b906-23a867d4d586",
   "metadata": {},
   "outputs": [
    {
     "data": {
      "text/html": [
       "<div>\n",
       "<style scoped>\n",
       "    .dataframe tbody tr th:only-of-type {\n",
       "        vertical-align: middle;\n",
       "    }\n",
       "\n",
       "    .dataframe tbody tr th {\n",
       "        vertical-align: top;\n",
       "    }\n",
       "\n",
       "    .dataframe thead th {\n",
       "        text-align: right;\n",
       "    }\n",
       "</style>\n",
       "<table border=\"1\" class=\"dataframe\">\n",
       "  <thead>\n",
       "    <tr style=\"text-align: right;\">\n",
       "      <th></th>\n",
       "      <th>User_ID</th>\n",
       "      <th>Amount</th>\n",
       "      <th>Balance_After</th>\n",
       "      <th>Recipient</th>\n",
       "    </tr>\n",
       "  </thead>\n",
       "  <tbody>\n",
       "    <tr>\n",
       "      <th>count</th>\n",
       "      <td>1.000000e+04</td>\n",
       "      <td>10000.000000</td>\n",
       "      <td>10000.000000</td>\n",
       "      <td>2.516000e+03</td>\n",
       "    </tr>\n",
       "    <tr>\n",
       "      <th>mean</th>\n",
       "      <td>7.548167e+08</td>\n",
       "      <td>1003.559518</td>\n",
       "      <td>3049.117864</td>\n",
       "      <td>7.544808e+08</td>\n",
       "    </tr>\n",
       "    <tr>\n",
       "      <th>std</th>\n",
       "      <td>2.503219e+07</td>\n",
       "      <td>1008.351095</td>\n",
       "      <td>1771.972891</td>\n",
       "      <td>2.508852e+07</td>\n",
       "    </tr>\n",
       "    <tr>\n",
       "      <th>min</th>\n",
       "      <td>7.103579e+08</td>\n",
       "      <td>1.060000</td>\n",
       "      <td>0.000000</td>\n",
       "      <td>7.103579e+08</td>\n",
       "    </tr>\n",
       "    <tr>\n",
       "      <th>25%</th>\n",
       "      <td>7.332019e+08</td>\n",
       "      <td>286.622500</td>\n",
       "      <td>1788.170000</td>\n",
       "      <td>7.331328e+08</td>\n",
       "    </tr>\n",
       "    <tr>\n",
       "      <th>50%</th>\n",
       "      <td>7.573578e+08</td>\n",
       "      <td>703.470000</td>\n",
       "      <td>2966.405000</td>\n",
       "      <td>7.571271e+08</td>\n",
       "    </tr>\n",
       "    <tr>\n",
       "      <th>75%</th>\n",
       "      <td>7.752594e+08</td>\n",
       "      <td>1386.672500</td>\n",
       "      <td>4161.105000</td>\n",
       "      <td>7.749611e+08</td>\n",
       "    </tr>\n",
       "    <tr>\n",
       "      <th>max</th>\n",
       "      <td>7.999428e+08</td>\n",
       "      <td>9523.510000</td>\n",
       "      <td>11677.710000</td>\n",
       "      <td>7.999428e+08</td>\n",
       "    </tr>\n",
       "  </tbody>\n",
       "</table>\n",
       "</div>"
      ],
      "text/plain": [
       "            User_ID        Amount  Balance_After     Recipient\n",
       "count  1.000000e+04  10000.000000   10000.000000  2.516000e+03\n",
       "mean   7.548167e+08   1003.559518    3049.117864  7.544808e+08\n",
       "std    2.503219e+07   1008.351095    1771.972891  2.508852e+07\n",
       "min    7.103579e+08      1.060000       0.000000  7.103579e+08\n",
       "25%    7.332019e+08    286.622500    1788.170000  7.331328e+08\n",
       "50%    7.573578e+08    703.470000    2966.405000  7.571271e+08\n",
       "75%    7.752594e+08   1386.672500    4161.105000  7.749611e+08\n",
       "max    7.999428e+08   9523.510000   11677.710000  7.999428e+08"
      ]
     },
     "execution_count": 6,
     "metadata": {},
     "output_type": "execute_result"
    }
   ],
   "source": [
    "df.describe()"
   ]
  },
  {
   "cell_type": "code",
   "execution_count": 7,
   "id": "9e4cd6c1-1248-4f2e-96c9-5dbeeec6f3f2",
   "metadata": {},
   "outputs": [
    {
     "data": {
      "text/plain": [
       "Transaction_ID         0\n",
       "Timestamp              0\n",
       "User_ID                0\n",
       "Transaction_Type       0\n",
       "Amount                 0\n",
       "Balance_After          0\n",
       "Location               0\n",
       "Recipient           7484\n",
       "Status                 0\n",
       "dtype: int64"
      ]
     },
     "execution_count": 7,
     "metadata": {},
     "output_type": "execute_result"
    }
   ],
   "source": [
    "df.isnull().sum()"
   ]
  },
  {
   "cell_type": "code",
   "execution_count": 10,
   "id": "efd50570-40d6-4bf3-b90c-4b5829c991cd",
   "metadata": {},
   "outputs": [
    {
     "data": {
      "text/plain": [
       "0"
      ]
     },
     "execution_count": 10,
     "metadata": {},
     "output_type": "execute_result"
    }
   ],
   "source": [
    "df.duplicated().sum()"
   ]
  },
  {
   "cell_type": "code",
   "execution_count": 15,
   "id": "76a8583f-90f5-4319-9592-776163a1a2de",
   "metadata": {},
   "outputs": [],
   "source": [
    "df['Timestamp'] = pd.to_datetime(df['Timestamp'], format=\"%Y-%m-%d %H:%M:%S\")\n",
    "df['Month'] = df['Timestamp'].dt.to_period('M')\n",
    "df['Day'] = df['Timestamp'].dt.date\n",
    "df['Hour'] = df['Timestamp'].dt.hour"
   ]
  },
  {
   "cell_type": "code",
   "execution_count": 17,
   "id": "1e8d27db-08e7-465e-80c8-05377bbf520e",
   "metadata": {},
   "outputs": [
    {
     "data": {
      "text/plain": [
       "Transaction_Type\n",
       "Paybill          1308\n",
       "Send Money       1302\n",
       "Withdraw         1295\n",
       "Buy Airtime      1250\n",
       "Reversal         1222\n",
       "Receive Money    1214\n",
       "Deposit          1207\n",
       "Buy Goods        1202\n",
       "Name: count, dtype: int64"
      ]
     },
     "execution_count": 17,
     "metadata": {},
     "output_type": "execute_result"
    }
   ],
   "source": [
    "df['Transaction_Type'].value_counts()"
   ]
  },
  {
   "cell_type": "code",
   "execution_count": 18,
   "id": "6929b3e6-93b3-4ce2-a35e-921223f09acc",
   "metadata": {},
   "outputs": [
    {
     "data": {
      "text/plain": [
       "Transaction_Type\n",
       "Withdraw         1353556.44\n",
       "Paybill          1341479.33\n",
       "Send Money       1269390.53\n",
       "Buy Airtime      1254059.20\n",
       "Deposit          1237793.75\n",
       "Buy Goods        1228352.58\n",
       "Reversal         1176858.82\n",
       "Receive Money    1174104.53\n",
       "Name: Amount, dtype: float64"
      ]
     },
     "execution_count": 18,
     "metadata": {},
     "output_type": "execute_result"
    }
   ],
   "source": [
    "df.groupby('Transaction_Type')['Amount'].sum().sort_values(ascending = False)"
   ]
  },
  {
   "cell_type": "code",
   "execution_count": 21,
   "id": "15c9c539-5fb0-41ef-8071-68fcb9e57158",
   "metadata": {},
   "outputs": [
    {
     "data": {
      "text/plain": [
       "User_ID\n",
       "760353583    40233.04\n",
       "767365582    40168.22\n",
       "742697590    39739.10\n",
       "774997182    39627.69\n",
       "782827167    37560.16\n",
       "736741864    37087.02\n",
       "762785503    36210.41\n",
       "739798376    36005.27\n",
       "730480323    35564.95\n",
       "737976667    35228.61\n",
       "Name: Amount, dtype: float64"
      ]
     },
     "execution_count": 21,
     "metadata": {},
     "output_type": "execute_result"
    }
   ],
   "source": [
    "df['User_ID'].value_counts().head(10)\n",
    "df.groupby('User_ID')['Amount'].sum().sort_values(ascending = False).head(10)"
   ]
  },
  {
   "cell_type": "code",
   "execution_count": null,
   "id": "6fbee730-b039-4deb-a9ac-4262fe1e3610",
   "metadata": {},
   "outputs": [],
   "source": [
    "df['Location'].value_counts()"
   ]
  },
  {
   "cell_type": "code",
   "execution_count": null,
   "id": "a00164cc-985f-45a4-995f-63c0d3c7221c",
   "metadata": {},
   "outputs": [],
   "source": []
  }
 ],
 "metadata": {
  "kernelspec": {
   "display_name": "Python [conda env:base] *",
   "language": "python",
   "name": "conda-base-py"
  },
  "language_info": {
   "codemirror_mode": {
    "name": "ipython",
    "version": 3
   },
   "file_extension": ".py",
   "mimetype": "text/x-python",
   "name": "python",
   "nbconvert_exporter": "python",
   "pygments_lexer": "ipython3",
   "version": "3.12.7"
  }
 },
 "nbformat": 4,
 "nbformat_minor": 5
}
